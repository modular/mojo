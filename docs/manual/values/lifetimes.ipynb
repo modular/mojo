{
 "cells": [
  {
   "cell_type": "raw",
   "metadata": {
    "vscode": {
     "languageId": "raw"
    }
   },
   "source": [
    "---\n",
    "title: Lifetimes, origins, and references\n",
    "sidebar_position: 4\n",
    "description: Working with origins and references.\n",
    "---"
   ]
  },
  {
   "cell_type": "markdown",
   "metadata": {},
   "source": [
    "The Mojo compiler includes a lifetime checker, a compiler pass that analyzes\n",
    "dataflow through your program. It identifies when variables are valid and \n",
    "inserts destructor calls when a variable's lifetime ends.\n",
    "\n",
    "The Mojo compiler uses a special value called an _origin_ to track the lifetime\n",
    "of variables and the validity of references.\n",
    "\n",
    "Specifically, an origin answers two questions:\n",
    "\n",
    "- What variable \"owns\" this value?\n",
    "- Can the value be mutated using this reference?\n",
    "\n",
    "For example, consider the following code:\n"
   ]
  },
  {
   "cell_type": "code",
   "execution_count": 27,
   "metadata": {},
   "outputs": [
    {
     "name": "stdout",
     "output_type": "stream",
     "text": [
      "Joan\n"
     ]
    }
   ],
   "source": [
    "fn print_str(s: String):\n",
    "    print(s)\n",
    "\n",
    "name = String(\"Joan\")\n",
    "print_str(name)"
   ]
  },
  {
   "cell_type": "markdown",
   "metadata": {},
   "source": [
    "The line `name = String(\"Joan\")` declares a variable with an identifier (`name`)\n",
    "and logical storage space for a `String` value. When you pass `name` into the\n",
    "`print_str()` function, the function gets an immutable reference to the value. \n",
    "So both `name` and `s` refer to the same logical storage space, and have\n",
    "associated origin values that lets the Mojo compiler reason about them. \n",
    "\n",
    "Most of the time, origins are handled automatically by the compiler. \n",
    "However, in some cases you'll need to interact with origins directly:\n",
    "\n",
    "- When working with references—specifically `ref` arguments and `ref` return\n",
    "  values. \n",
    "\n",
    "- When working with types like \n",
    "  [`Pointer`](/mojo/stdlib/memory/reference/Pointer) or \n",
    "  [`Span`](/mojo/stdlib/utils/span/Span) which are parameterized on the \n",
    "  origin of the data they refer to.\n",
    "\n",
    "This section also covers [`ref` arguments](#ref-arguments) and \n",
    "[`ref` return values](#ref-return-values), which let functions\n",
    "take arguments and provide return values as references with parametric\n",
    "origins."
   ]
  },
  {
   "cell_type": "markdown",
   "metadata": {},
   "source": [
    "## Working with origins\n",
    "\n",
    "Mojo's origin values are unlike most other values in the language, because\n",
    "they're primitive values, not Mojo structs.\n",
    "\n",
    "Likewise, because these values are mostly created by the \n",
    "compiler, you can't just create your own origin value—you usually need to \n",
    "derive an origin from an existing value.\n",
    "\n",
    "### Origin types\n",
    "\n",
    "Mojo supplies a struct and a set of aliases that you can use to specify \n",
    "origin types. As the names suggest, the `ImmutableOrigin` and \n",
    "`MutableOrigin` aliases represent immutable and mutable origins, \n",
    "respectively:\n",
    "\n",
    "```mojo\n",
    "struct ImmutableRef[origin: ImmutableOrigin]:\n",
    "    pass\n",
    "```\n",
    "\n",
    "Or you can use the [`Origin`](mojo/stdlib/builtin/type_aliases/Origin)\n",
    "struct to specify an origin with parametric mutability:"
   ]
  },
  {
   "cell_type": "code",
   "execution_count": 28,
   "metadata": {},
   "outputs": [],
   "source": [
    "struct ParametricRef[\n",
    "    is_mutable: Bool,\n",
    "    //,\n",
    "    origin: Origin[is_mutable].type\n",
    "]:\n",
    "    pass"
   ]
  },
  {
   "cell_type": "markdown",
   "metadata": {},
   "source": [
    "Note that `Origin` _isn't an origin value_, it's a helper for specifying a \n",
    "origin **type**. Origin types carry the mutability of a reference as a \n",
    "boolean parameter value, indicating whether the origin is mutable, immutable,\n",
    "or even with mutability depending on a parameter specified by the enclosing API.\n",
    "\n",
    "The `is_mutable` parameter here is an [infer-only\n",
    "parameter](/mojo/manual/parameters/#infer-only-parameters). It's never\n",
    "specified directly by the user, but always inferred from context. The\n",
    "`origin` value is often inferred, as well. For example, the following code\n",
    "creates a [`Pointer`](/mojo/stdlib/memory/pointer/Pointer) to an existing\n",
    "value, but doesn't need to specify an origin—the `origin` is inferred from\n",
    "the variable passed in to the `address_of()` method."
   ]
  },
  {
   "cell_type": "code",
   "execution_count": 29,
   "metadata": {},
   "outputs": [],
   "source": [
    "from memory import Pointer\n",
    "\n",
    "def use_pointer():\n",
    "    a = 10\n",
    "    ptr = Pointer.address_of(a)"
   ]
  },
  {
   "cell_type": "markdown",
   "metadata": {},
   "source": [
    "A final type of origin value is an `OriginSet`. As the name suggests, an \n",
    "`OriginSet` represents a group of origins. "
   ]
  },
  {
   "cell_type": "markdown",
   "metadata": {},
   "source": [
    "\n",
    "### Origin values\n",
    "\n",
    "Most origin values are created by the compiler. As a developer, there are a\n",
    "few ways to specify origin values:\n",
    "\n",
    "- Static origin. The `StaticConstantOrigin`\n",
    "  alias is an origin value representing immutable values that that last for the\n",
    "  duration of the program. String literal values have a `StaticConstantOrigin`.\n",
    "- The `__origin_of()` magic function, which returns the origin associated\n",
    "  with the value (or values) passed in.\n",
    "- Inferred origin. You can use inferred parameters to capture the origin\n",
    "  of a value passed in to a function.\n",
    "- Wildcard origins. The `ImmutableAnyOrigin` and `MutableAnyOrigin` aliases\n",
    "  are special cases indicating a reference that might access any live value.\n",
    "\n",
    "#### Static origins\n",
    "\n",
    "You can use the static origin `StaticConstantOrigin` when you have a \n",
    "value that exists for the entire duration of the program.\n",
    "\n",
    "For example, the `StringLiteral` method\n",
    "[`as_string_slice()`](/mojo/stdlib/builtin/string_literal/StringLiteral#as_string_slice)\n",
    "returns a [`StringSlice`](/mojo/stdlib/utils/string_slice/StringSlice) pointing\n",
    "to the original string literal. String literals are static—they're allocated at\n",
    "compile time and never destroyed—so the slice is created with an immutable,\n",
    "static origin.\n",
    "\n",
    "#### Derived origins\n",
    "\n",
    "Use the `__origin_of(value)` operator to obtain a value's origin. The\n",
    "argument to `__origin_of()` can take an arbitrary expression:\n",
    "\n",
    "```mojo\n",
    "__origin_of(self)\n",
    "__origin_of(x.y)\n",
    "__origin_of(foo())\n",
    "```\n",
    "\n",
    "The `__origin_of()` operator is analyzed statically at compile time;\n",
    "The expression passed to `__origin_of()` is never evaluated. (For example, \n",
    "when the compiler analyzes `__origin_of(foo())`, it doesn't run the `foo()`\n",
    "function.)\n",
    "\n",
    "The following struct stores a string value using a \n",
    "[`OwnedPointer`](/mojo/stdlib/memory/owned_pointer/OwnedPointer): a smart\n",
    "pointer that holds an owned value. The `as_ptr()` method returns a `Pointer` to\n",
    "the stored string, using the same origin as the original `OwnedPointer`."
   ]
  },
  {
   "cell_type": "code",
   "execution_count": 41,
   "metadata": {},
   "outputs": [],
   "source": [
    "from memory import OwnedPointer, Pointer\n",
    "\n",
    "struct BoxedString:\n",
    "    var box: OwnedPointer[String]\n",
    "\n",
    "    fn __init__(inout self, value: String):\n",
    "        self.box = OwnedPointer(value)\n",
    "\n",
    "    fn as_ptr(self) -> Pointer[String, __origin_of(self.box)]:\n",
    "        return Pointer.address_of(self.box[])"
   ]
  },
  {
   "cell_type": "markdown",
   "metadata": {},
   "source": [
    "#### Inferred origins\n",
    "\n",
    "The other common way to access an origin value is to _infer_ it from the\n",
    "the arguments passed to a function or method. For example, the `Span` type\n",
    "has an associated `origin`:\n",
    "\n",
    "```mojo\n",
    "struct Span[\n",
    "    is_mutable: Bool, //,\n",
    "    T: CollectionElement,\n",
    "    origin: Origin[is_mutable].type,\n",
    "](CollectionElementNew):\n",
    "    \"\"\"A non owning view of contiguous data.\n",
    "```\n",
    "\n",
    "One of its constructors creates a `Span` from an existing `List`, and infers\n",
    "its `origin` value from the list:\n",
    "\n",
    "```mojo\n",
    "    fn __init__(inout self, ref [origin]list: List[T, *_]):\n",
    "        \"\"\"Construct a Span from a List.\n",
    "\n",
    "        Args:\n",
    "            list: The list to which the span refers.\n",
    "        \"\"\"\n",
    "        self._data = list.data\n",
    "        self._len = len(list)\n",
    "```\n"
   ]
  },
  {
   "cell_type": "markdown",
   "metadata": {},
   "source": [
    "\n",
    "## Working with references\n",
    "\n",
    "You can use the `ref` keyword with arguments and return values to specify a \n",
    "reference with parametric mutability. That is, they can be either mutable or \n",
    "immutable.\n",
    "\n",
    "From inside the called function, a `ref` argument looks like a `borrowed` or\n",
    "`inout` argument. \n",
    "\n",
    "A `ref` return value looks like any other return value to the calling function,\n",
    "but it is a _reference_ to an existing value, not a copy.\n",
    "\n",
    "### `ref` arguments\n",
    "\n",
    "The `ref` argument convention lets you specify an argument of parametric\n",
    "mutability: that is, you don't need to know in advance whether the passed\n",
    "argument will be mutable or immutable. There are several reasons you might want\n",
    "to use a `ref` argument:\n",
    "\n",
    "- You want to accept an argument with parametric mutability.\n",
    "\n",
    "- You want to tie the lifetime of one argument to the lifetime of another\n",
    "  argument.\n",
    "\n",
    "- When you want an argument that is guaranteed to be passed in memory: this can\n",
    "  be important and useful for generic arguments that need an identity,\n",
    "  irrespective of whether the concrete type is register passable.\n",
    "\n",
    "The syntax for a `ref` argument is:\n",
    "\n",
    "<code><strong>ref [</strong><var>origin_specifier</var><strong>]</strong> <var>arg_name</var>: <var>arg_type</var></code>\n",
    "\n",
    "The origin specifier passed inside the square brackets can be either:\n",
    "\n",
    "- An origin value.\n",
    "- An arbitrary expression, which is treated as shorthand for \n",
    "  `__origin_of(expression)`. In other words, the following declarations are\n",
    "  equivalent:\n",
    "\n",
    "  ```mojo\n",
    "  ref [__origin_of(self)]\n",
    "  ref [self]\n",
    "  ```\n",
    "  \n",
    "- An underscore character (`_`) to indicate that the origin is _unbound_. You\n",
    "  can think of the underscore as a wildcard that will accept any origin:\n",
    "\n",
    "  ```mojo\n",
    "  def add_ref(ref [_] a: Int, b: Int) -> Int:\n",
    "    return a+b\n",
    "  ```"
   ]
  },
  {
   "cell_type": "markdown",
   "metadata": {},
   "source": [
    "You can also name the origin explicitly. This is useful if you want to specify\n",
    "an `ImmutableOrigin` or `MutableLOrigin`, or if you want to bind to\n",
    "the `is_mutable` parameter."
   ]
  },
  {
   "cell_type": "code",
   "execution_count": 31,
   "metadata": {},
   "outputs": [
    {
     "name": "stdout",
     "output_type": "stream",
     "text": [
      "Immutable: Hello\n",
      "Mutable: Goodbye\n"
     ]
    }
   ],
   "source": [
    "def take_str_ref[\n",
    "      is_mutable: Bool, //,\n",
    "      origin: Origin[is_mutable].type\n",
    "    ](ref [origin] s: String):\n",
    "    @parameter\n",
    "    if is_mutable:\n",
    "        print(\"Mutable: \" + s)\n",
    "    else:\n",
    "        print(\"Immutable: \" + s)\n",
    "\n",
    "def pass_refs(s1: String, owned s2: String):\n",
    "    take_str_ref(s1)\n",
    "    take_str_ref(s2)\n",
    "\n",
    "pass_refs(\"Hello\", \"Goodbye\")"
   ]
  },
  {
   "cell_type": "markdown",
   "metadata": {},
   "source": [
    "### `ref` return values\n",
    "\n",
    "Like `ref` arguments, `ref` return values allow a function to return a mutable\n",
    "or immutable reference to a value. Like a `borrowed` or `inout` argument, these\n",
    "references don't need to be dereferenced.\n",
    "\n",
    "`ref` return values can be an efficient way to handle updating items in a \n",
    "collection. The standard way to do this is by implementing the `__getitem__()`\n",
    "and `__setitem__()` dunder methods. These are invoked to read from and write to \n",
    "a subscripted item in a collection:\n",
    "\n",
    "```mojo\n",
    "value = list[a]\n",
    "list[b] += 10\n",
    "```\n",
    "\n",
    "With a `ref` argument, `__getitem__()` can return a mutable reference that can\n",
    "be modified directly. This has pros and cons compared to using a `__setitem__()`\n",
    "method:\n",
    "\n",
    "- The mutable reference is more efficient—a single update isn't broken up across\n",
    "  two methods. However, the referenced value must be in memory.\n",
    "  \n",
    "- A `__getitem__()`/`__setitem__()` pair allows for arbitrary code to be run \n",
    "  when values are retrieved and set. For example, `__setitem__()` can validate\n",
    "  or constrain input values.\n",
    "\n",
    "For example, in the following example, `NameList` has a `__getitem__()` method\n",
    "that returns a reference: "
   ]
  },
  {
   "cell_type": "code",
   "execution_count": 32,
   "metadata": {},
   "outputs": [
    {
     "name": "stdout",
     "output_type": "stream",
     "text": [
      "Dana\n",
      "Dana?\n"
     ]
    }
   ],
   "source": [
    "struct NameList:\n",
    "    var names: List[String]\n",
    "\n",
    "    def __init__(inout self, *names: String):\n",
    "        self.names = List[String]()\n",
    "        for name in names:\n",
    "            self.names.append(name[])\n",
    "\n",
    "    def __getitem__(ref [_] self: Self, index: Int) ->\n",
    "        ref [self.names] String:\n",
    "        if (index >=0 and index < len(self.names)):\n",
    "            return self.names[index]\n",
    "        else:\n",
    "            raise Error(\"index out of bounds\")\n",
    "\n",
    "def use_name_list():\n",
    "    list = NameList(\"Thor\", \"Athena\", \"Dana\", \"Vrinda\")\n",
    "    print(list[2])\n",
    "    list[2] += \"?\"\n",
    "    print(list[2])\n",
    "\n",
    "use_name_list()\n"
   ]
  },
  {
   "cell_type": "markdown",
   "metadata": {},
   "source": [
    "Note that this update succeeds, even though `NameList` doesn't define a\n",
    "`__setitem__()` method:\n",
    "\n",
    "```mojo\n",
    "list[2] += \"?\"\n",
    "```\n",
    "\n",
    "Also note that the code uses the return value directly each time, rather than\n",
    "assigning the return value to a variable, like this:\n",
    "\n",
    "```mojo\n",
    "name = list[2]\n",
    "name += \"?\"\n",
    "```\n",
    "\n",
    "Since a variable needs to own its value, `name` would end up with an owned \n",
    "_copy_ of the referenced value. Mojo doesn't currently have \n",
    "syntax to express that you want to keep the original reference in `name`. This\n",
    "will be added in a future release.\n",
    "\n",
    "If you're working with an API that returns a reference, and you want to avoid\n",
    "copying the referenced value, you can use a\n",
    "[`Pointer`](/mojo/stdlib/memory/reference/Pointer) to hold an indirect reference.\n",
    "You can assign a `Pointer` to a variable, but you need to use the dereference\n",
    "operator (`[]`) to access the underlying value.\n",
    "\n",
    "```mojo\n",
    "name_ptr = Pointer.address_of(list[2])\n",
    "name_ptr[] += \"?\"\n",
    "```\n",
    "\n",
    "Similarly, when designing an API you might want to return a `Pointer` instead of\n",
    "a `ref` to allow users to assign the return value to a variable. For example, \n",
    "iterators for the standard library collections return pointers, so they can be\n",
    "used in `for..in` loops:"
   ]
  },
  {
   "cell_type": "code",
   "execution_count": 33,
   "metadata": {},
   "outputs": [
    {
     "name": "stdout",
     "output_type": "stream",
     "text": [
      "1\n",
      "2\n",
      "3\n",
      "1\n",
      "2\n",
      "3\n"
     ]
    }
   ],
   "source": [
    "nums = List(1, 2, 3)\n",
    "for item in nums: # List iterator returns a Pointer, which must be dereferenced\n",
    "    print(item[])\n",
    "for i in range(len(nums)):\n",
    "    print(nums[i]) # List __getitem__() returns a ref"
   ]
  },
  {
   "cell_type": "markdown",
   "metadata": {},
   "source": [
    "(You can find the code for the \n",
    "`List` iterator in the [Mojo\n",
    "repo](https://github.com/modularml/mojo/blob/main/stdlib/src/collections/list.mojo#L63).)\n"
   ]
  },
  {
   "cell_type": "markdown",
   "metadata": {},
   "source": [
    "#### Parametric mutability of return values\n",
    "\n",
    "Another advantage of `ref` return arguments is the ability to support parametric\n",
    "mutability.  For example, recall the signature of the `__getitem__()` method\n",
    "above:\n",
    "\n",
    "```mojo\n",
    "def __getitem__(ref [_] self: Self, index: Int) ->\n",
    "    ref [self] String:\n",
    "```\n",
    "\n",
    "Since the `origin` of the return value is tied to the origin of `self`, the\n",
    "returned reference will be mutable if the method was called using a\n",
    "mutable reference. The method still works if you have an immutable reference\n",
    "to the `NameList`, but it returns an immutable reference:"
   ]
  },
  {
   "cell_type": "code",
   "execution_count": 34,
   "metadata": {},
   "outputs": [
    {
     "name": "stdout",
     "output_type": "stream",
     "text": [
      "Diana\n"
     ]
    }
   ],
   "source": [
    "fn pass_immutable_list(list: NameList) raises:\n",
    "    print(list[2])\n",
    "    # list[2] += \"?\" # Error, this list is immutable\n",
    "\n",
    "def use_name_list_again():\n",
    "    list = NameList(\"Sophie\", \"Jack\", \"Diana\")\n",
    "    pass_immutable_list(list)\n",
    "\n",
    "use_name_list_again()"
   ]
  },
  {
   "cell_type": "markdown",
   "metadata": {},
   "source": [
    "Without parametric mutability, you'd need to write two versions of \n",
    "`__getitem__()`, one that accepts an immutable `self` and another that accepts\n",
    "a mutable `self`. "
   ]
  }
 ],
 "metadata": {
  "kernelspec": {
   "display_name": "Mojo",
   "language": "mojo",
   "name": "mojo-jupyter-kernel"
  },
  "language_info": {
   "codemirror_mode": {
    "name": "mojo"
   },
   "file_extension": ".mojo",
   "mimetype": "text/x-mojo",
   "name": "mojo"
  }
 },
 "nbformat": 4,
 "nbformat_minor": 2
}
